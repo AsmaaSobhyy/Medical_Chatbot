{
  "nbformat": 4,
  "nbformat_minor": 0,
  "metadata": {
    "colab": {
      "name": "medical_relevence_classification.ipynb",
      "provenance": []
    },
    "kernelspec": {
      "display_name": "Python 3",
      "name": "python3"
    },
    "language_info": {
      "name": "python"
    }
  },
  "cells": [
    {
      "cell_type": "code",
      "metadata": {
        "id": "zFltVPueNtdv"
      },
      "source": [
        "import pandas as pd\n",
        "import numpy as np\n",
        "\n",
        "import nltk\n",
        "from nltk.stem import PorterStemmer\n",
        "from nltk.stem import WordNetLemmatizer\n",
        "from nltk.corpus import stopwords\n",
        "\n",
        "from sklearn.model_selection import train_test_split\n",
        "from sklearn.feature_extraction.text import TfidfVectorizer\n",
        "from sklearn.pipeline import Pipeline\n",
        "from sklearn.metrics import accuracy_score\n",
        "from sklearn.metrics import classification_report\n",
        "from sklearn.tree import DecisionTreeClassifier\n",
        "from sklearn import metrics\n",
        "from  sklearn import svm"
      ],
      "execution_count": null,
      "outputs": []
    },
    {
      "cell_type": "code",
      "metadata": {
        "colab": {
          "base_uri": "https://localhost:8080/"
        },
        "id": "heBCuRed7iPq",
        "outputId": "a0045f92-0862-4dc3-c0e2-2b41aaab3f7a"
      },
      "source": [
        "nltk.download('gutenberg')\n",
        "nltk.download('stopwords')\n",
        "nltk.download('wordnet')"
      ],
      "execution_count": null,
      "outputs": [
        {
          "output_type": "stream",
          "text": [
            "[nltk_data] Downloading package gutenberg to /root/nltk_data...\n",
            "[nltk_data]   Package gutenberg is already up-to-date!\n",
            "[nltk_data] Downloading package stopwords to /root/nltk_data...\n",
            "[nltk_data]   Package stopwords is already up-to-date!\n",
            "[nltk_data] Downloading package wordnet to /root/nltk_data...\n",
            "[nltk_data]   Package wordnet is already up-to-date!\n"
          ],
          "name": "stdout"
        },
        {
          "output_type": "execute_result",
          "data": {
            "text/plain": [
              "True"
            ]
          },
          "metadata": {
            "tags": []
          },
          "execution_count": 2
        }
      ]
    },
    {
      "cell_type": "markdown",
      "metadata": {
        "id": "M7Q2RIpePQk-"
      },
      "source": [
        "**Reading the medical dialog dataset**"
      ]
    },
    {
      "cell_type": "code",
      "metadata": {
        "id": "dZEsg8qUNsgx"
      },
      "source": [
        "## reading the data into a dataframe\n",
        "healthcare=pd.DataFrame(columns=['id','description','patient','doctor'])\n",
        "\n",
        "id=-1\n",
        "patient=''\n",
        "doctor=''\n",
        "description=''\n",
        "f = open(\"/content/drive/MyDrive/Disease_Prediction_dataset/healthcaremagic_dialogue_.txt\", \"r\")\n",
        "txt=\"\"\n",
        "reading=False\n",
        "for x in f:\n",
        "  if healthcare.shape[0] == 10000:\n",
        "    break\n",
        "  if x[:2]=='id':\n",
        "    id=x[3:]\n",
        "    #ids.append(x[3:])\n",
        "    reading=False\n",
        "  elif x[:11] == \"Description\":\n",
        "    if txt == \"\":\n",
        "      reading=True\n",
        "    else:\n",
        "      doctor = txt\n",
        "      txt=\"\"\n",
        "  elif x[:7] == \"Patient\":\n",
        "    if txt == \"\":\n",
        "      reading=True\n",
        "    else:\n",
        "      description= txt\n",
        "      txt=\"\"\n",
        "  elif x[:6] == \"Doctor\":\n",
        "    if txt == \"\":\n",
        "      reading=True\n",
        "    else:\n",
        "      patient=txt\n",
        "      txt=\"\"\n",
        "  elif x[:6] == \"Dialog\" or x==\"\\n\":\n",
        "    reading=reading\n",
        "\n",
        "  else :\n",
        "    txt= txt + x\n",
        "  if id != -1 and patient != \"\" and description != \"\" and doctor !=\"\":\n",
        "    healthcare= healthcare.append({'id':id,'patient':patient,'doctor':doctor,'description':description}, ignore_index=True)\n",
        "    id=-1\n",
        "    patient=''\n",
        "    doctor=''\n",
        "    description=''"
      ],
      "execution_count": null,
      "outputs": []
    },
    {
      "cell_type": "code",
      "metadata": {
        "id": "8N_A6mptN--8",
        "colab": {
          "base_uri": "https://localhost:8080/",
          "height": 293
        },
        "outputId": "79582d74-d9f0-4ccb-8fef-828dade5a679"
      },
      "source": [
        "healthcare.head()"
      ],
      "execution_count": null,
      "outputs": [
        {
          "output_type": "execute_result",
          "data": {
            "text/html": [
              "<div>\n",
              "<style scoped>\n",
              "    .dataframe tbody tr th:only-of-type {\n",
              "        vertical-align: middle;\n",
              "    }\n",
              "\n",
              "    .dataframe tbody tr th {\n",
              "        vertical-align: top;\n",
              "    }\n",
              "\n",
              "    .dataframe thead th {\n",
              "        text-align: right;\n",
              "    }\n",
              "</style>\n",
              "<table border=\"1\" class=\"dataframe\">\n",
              "  <thead>\n",
              "    <tr style=\"text-align: right;\">\n",
              "      <th></th>\n",
              "      <th>id</th>\n",
              "      <th>description</th>\n",
              "      <th>patient</th>\n",
              "      <th>doctor</th>\n",
              "    </tr>\n",
              "  </thead>\n",
              "  <tbody>\n",
              "    <tr>\n",
              "      <th>0</th>\n",
              "      <td>0\\n</td>\n",
              "      <td>How can one treat intense pain in the stomach ...</td>\n",
              "      <td>Hi,I m XXXX,I am ulcer patient ,I did my endos...</td>\n",
              "      <td>https://www.healthcaremagic.com/questions/How-...</td>\n",
              "    </tr>\n",
              "    <tr>\n",
              "      <th>1</th>\n",
              "      <td>1\\n</td>\n",
              "      <td>What causes abdominal pain similar to menstrua...</td>\n",
              "      <td>I took the shot and started duphaston pills fo...</td>\n",
              "      <td>Hello,I don't think your ulcer is coming back ...</td>\n",
              "    </tr>\n",
              "    <tr>\n",
              "      <th>2</th>\n",
              "      <td>2\\n</td>\n",
              "      <td>Suggest remedies for recurrent abdominal pain ...</td>\n",
              "      <td>Hi my name is XXXX. I have been having stomach...</td>\n",
              "      <td>Hello,Duphaston is a hormonal preparation and ...</td>\n",
              "    </tr>\n",
              "    <tr>\n",
              "      <th>3</th>\n",
              "      <td>3\\n</td>\n",
              "      <td>What causes sensation of weird movements in th...</td>\n",
              "      <td>Hi, my name is XXXX I m a 19year old girl and ...</td>\n",
              "      <td>Hello,I read carefully your query and understa...</td>\n",
              "    </tr>\n",
              "    <tr>\n",
              "      <th>4</th>\n",
              "      <td>4\\n</td>\n",
              "      <td>Suggest remedies for recurrent pain in the abd...</td>\n",
              "      <td>Hi! My name is XXXX and I used to take an insa...</td>\n",
              "      <td>Hi,There can be numerous clinical conditions t...</td>\n",
              "    </tr>\n",
              "  </tbody>\n",
              "</table>\n",
              "</div>"
            ],
            "text/plain": [
              "    id  ...                                             doctor\n",
              "0  0\\n  ...  https://www.healthcaremagic.com/questions/How-...\n",
              "1  1\\n  ...  Hello,I don't think your ulcer is coming back ...\n",
              "2  2\\n  ...  Hello,Duphaston is a hormonal preparation and ...\n",
              "3  3\\n  ...  Hello,I read carefully your query and understa...\n",
              "4  4\\n  ...  Hi,There can be numerous clinical conditions t...\n",
              "\n",
              "[5 rows x 4 columns]"
            ]
          },
          "metadata": {
            "tags": []
          },
          "execution_count": 4
        }
      ]
    },
    {
      "cell_type": "code",
      "metadata": {
        "id": "JdLONY3cWkUD",
        "colab": {
          "base_uri": "https://localhost:8080/"
        },
        "outputId": "e3c21e4e-0b43-46c8-b3f4-ef2bd8255c9a"
      },
      "source": [
        "healthcare.shape[0]"
      ],
      "execution_count": null,
      "outputs": [
        {
          "output_type": "execute_result",
          "data": {
            "text/plain": [
              "10000"
            ]
          },
          "metadata": {
            "tags": []
          },
          "execution_count": 5
        }
      ]
    },
    {
      "cell_type": "markdown",
      "metadata": {
        "id": "gBozYp8TPqCj"
      },
      "source": [
        "**reading movie lines data**"
      ]
    },
    {
      "cell_type": "code",
      "metadata": {
        "colab": {
          "base_uri": "https://localhost:8080/",
          "height": 206
        },
        "id": "tkGpMQYYN-58",
        "outputId": "4f390c7e-a1ab-4144-efe2-935500b9ddd4"
      },
      "source": [
        "movie_lines= pd.read_csv(\"/content/drive/MyDrive/Disease_Prediction_dataset/movie_lines.tsv\",sep=\"\\t\",nrows=10000,header=None)\n",
        "\n",
        "movie_lines.head()"
      ],
      "execution_count": null,
      "outputs": [
        {
          "output_type": "execute_result",
          "data": {
            "text/html": [
              "<div>\n",
              "<style scoped>\n",
              "    .dataframe tbody tr th:only-of-type {\n",
              "        vertical-align: middle;\n",
              "    }\n",
              "\n",
              "    .dataframe tbody tr th {\n",
              "        vertical-align: top;\n",
              "    }\n",
              "\n",
              "    .dataframe thead th {\n",
              "        text-align: right;\n",
              "    }\n",
              "</style>\n",
              "<table border=\"1\" class=\"dataframe\">\n",
              "  <thead>\n",
              "    <tr style=\"text-align: right;\">\n",
              "      <th></th>\n",
              "      <th>0</th>\n",
              "      <th>1</th>\n",
              "      <th>2</th>\n",
              "      <th>3</th>\n",
              "      <th>4</th>\n",
              "    </tr>\n",
              "  </thead>\n",
              "  <tbody>\n",
              "    <tr>\n",
              "      <th>0</th>\n",
              "      <td>L1045</td>\n",
              "      <td>u0</td>\n",
              "      <td>m0</td>\n",
              "      <td>BIANCA</td>\n",
              "      <td>They do not!</td>\n",
              "    </tr>\n",
              "    <tr>\n",
              "      <th>1</th>\n",
              "      <td>L1044</td>\n",
              "      <td>u2</td>\n",
              "      <td>m0</td>\n",
              "      <td>CAMERON</td>\n",
              "      <td>They do to!</td>\n",
              "    </tr>\n",
              "    <tr>\n",
              "      <th>2</th>\n",
              "      <td>L985</td>\n",
              "      <td>u0</td>\n",
              "      <td>m0</td>\n",
              "      <td>BIANCA</td>\n",
              "      <td>I hope so.</td>\n",
              "    </tr>\n",
              "    <tr>\n",
              "      <th>3</th>\n",
              "      <td>L984</td>\n",
              "      <td>u2</td>\n",
              "      <td>m0</td>\n",
              "      <td>CAMERON</td>\n",
              "      <td>She okay?</td>\n",
              "    </tr>\n",
              "    <tr>\n",
              "      <th>4</th>\n",
              "      <td>L925</td>\n",
              "      <td>u0</td>\n",
              "      <td>m0</td>\n",
              "      <td>BIANCA</td>\n",
              "      <td>Let's go.</td>\n",
              "    </tr>\n",
              "  </tbody>\n",
              "</table>\n",
              "</div>"
            ],
            "text/plain": [
              "       0   1   2        3             4\n",
              "0  L1045  u0  m0   BIANCA  They do not!\n",
              "1  L1044  u2  m0  CAMERON   They do to!\n",
              "2   L985  u0  m0   BIANCA    I hope so.\n",
              "3   L984  u2  m0  CAMERON     She okay?\n",
              "4   L925  u0  m0   BIANCA     Let's go."
            ]
          },
          "metadata": {
            "tags": []
          },
          "execution_count": 4
        }
      ]
    },
    {
      "cell_type": "code",
      "metadata": {
        "id": "ENfTY7v9RY-9"
      },
      "source": [
        "medicaldf= pd.DataFrame({\"text\":healthcare['description'],\"medical\":[1]*len(healthcare['description'])})\n"
      ],
      "execution_count": null,
      "outputs": []
    },
    {
      "cell_type": "code",
      "metadata": {
        "id": "kAm3AIa5VTfD"
      },
      "source": [
        "moviesdf= pd.DataFrame({\"text\":movie_lines[4],\"medical\":[0]*len(movie_lines[4])})"
      ],
      "execution_count": null,
      "outputs": []
    },
    {
      "cell_type": "markdown",
      "metadata": {
        "id": "Zl1uqIfCP3H0"
      },
      "source": [
        "## concatinating the 2 datasets and splitting them into training and testing datasets"
      ]
    },
    {
      "cell_type": "code",
      "metadata": {
        "id": "OSkkLzHnVUO1",
        "colab": {
          "base_uri": "https://localhost:8080/"
        },
        "outputId": "34171dab-98a9-404d-ff2e-e971b23d1612"
      },
      "source": [
        "df=pd.concat([medicaldf,moviesdf])\n",
        "df.info()"
      ],
      "execution_count": null,
      "outputs": [
        {
          "output_type": "stream",
          "text": [
            "<class 'pandas.core.frame.DataFrame'>\n",
            "Int64Index: 20000 entries, 0 to 9999\n",
            "Data columns (total 2 columns):\n",
            " #   Column   Non-Null Count  Dtype \n",
            "---  ------   --------------  ----- \n",
            " 0   text     19909 non-null  object\n",
            " 1   medical  20000 non-null  int64 \n",
            "dtypes: int64(1), object(1)\n",
            "memory usage: 468.8+ KB\n"
          ],
          "name": "stdout"
        }
      ]
    },
    {
      "cell_type": "code",
      "metadata": {
        "id": "IiazJqAp79jn"
      },
      "source": [
        "df=df.dropna()"
      ],
      "execution_count": null,
      "outputs": []
    },
    {
      "cell_type": "markdown",
      "metadata": {
        "id": "f1jStloWQK4S"
      },
      "source": [
        "**a function that tokanize, stem and lemmatize the text**"
      ]
    },
    {
      "cell_type": "code",
      "metadata": {
        "id": "dLGxHjnW24pa"
      },
      "source": [
        "#cleaning\n",
        "def clean_text(text):\n",
        "  tokenizer = nltk.RegexpTokenizer(r\"\\w+\")\n",
        "  tokenized_words = tokenizer.tokenize(text)\n",
        "  tokenized_words = [token.lower() for token in tokenized_words]\n",
        "  stop_words=set(stopwords.words(\"english\"))\n",
        "  filtered_words=[]\n",
        "  for w in tokenized_words:\n",
        "      if w not in stop_words:\n",
        "          filtered_words.append(w)\n",
        "  ps = PorterStemmer()\n",
        "  wl=WordNetLemmatizer()\n",
        "  stemmed=[]\n",
        "  for w in filtered_words:\n",
        "    st=ps.stem(w)\n",
        "    stemmed.append(wl.lemmatize(st))\n",
        "  return ' '.join(stemmed)\n"
      ],
      "execution_count": null,
      "outputs": []
    },
    {
      "cell_type": "code",
      "metadata": {
        "id": "69V-H7M34rAs"
      },
      "source": [
        "df['cleantext']=df['text'].apply(clean_text)"
      ],
      "execution_count": null,
      "outputs": []
    },
    {
      "cell_type": "code",
      "metadata": {
        "colab": {
          "base_uri": "https://localhost:8080/",
          "height": 206
        },
        "id": "0xTEObw56D13",
        "outputId": "4c880fa3-e620-433f-d119-6023052af34f"
      },
      "source": [
        "df.head()"
      ],
      "execution_count": null,
      "outputs": [
        {
          "output_type": "execute_result",
          "data": {
            "text/html": [
              "<div>\n",
              "<style scoped>\n",
              "    .dataframe tbody tr th:only-of-type {\n",
              "        vertical-align: middle;\n",
              "    }\n",
              "\n",
              "    .dataframe tbody tr th {\n",
              "        vertical-align: top;\n",
              "    }\n",
              "\n",
              "    .dataframe thead th {\n",
              "        text-align: right;\n",
              "    }\n",
              "</style>\n",
              "<table border=\"1\" class=\"dataframe\">\n",
              "  <thead>\n",
              "    <tr style=\"text-align: right;\">\n",
              "      <th></th>\n",
              "      <th>text</th>\n",
              "      <th>medical</th>\n",
              "      <th>cleantext</th>\n",
              "    </tr>\n",
              "  </thead>\n",
              "  <tbody>\n",
              "    <tr>\n",
              "      <th>0</th>\n",
              "      <td>How can one treat intense pain in the stomach ...</td>\n",
              "      <td>1</td>\n",
              "      <td>one treat intens pain stomach suffer ulcer</td>\n",
              "    </tr>\n",
              "    <tr>\n",
              "      <th>1</th>\n",
              "      <td>What causes abdominal pain similar to menstrua...</td>\n",
              "      <td>1</td>\n",
              "      <td>caus abdomin pain similar menstrual pain take ...</td>\n",
              "    </tr>\n",
              "    <tr>\n",
              "      <th>2</th>\n",
              "      <td>Suggest remedies for recurrent abdominal pain ...</td>\n",
              "      <td>1</td>\n",
              "      <td>suggest remedi recurr abdomin pain block bowel</td>\n",
              "    </tr>\n",
              "    <tr>\n",
              "      <th>3</th>\n",
              "      <td>What causes sensation of weird movements in th...</td>\n",
              "      <td>1</td>\n",
              "      <td>caus sensat weird movement abdomen along sharp...</td>\n",
              "    </tr>\n",
              "    <tr>\n",
              "      <th>4</th>\n",
              "      <td>Suggest remedies for recurrent pain in the abd...</td>\n",
              "      <td>1</td>\n",
              "      <td>suggest remedi recurr pain abdomen chest heart...</td>\n",
              "    </tr>\n",
              "  </tbody>\n",
              "</table>\n",
              "</div>"
            ],
            "text/plain": [
              "                                                text  ...                                          cleantext\n",
              "0  How can one treat intense pain in the stomach ...  ...         one treat intens pain stomach suffer ulcer\n",
              "1  What causes abdominal pain similar to menstrua...  ...  caus abdomin pain similar menstrual pain take ...\n",
              "2  Suggest remedies for recurrent abdominal pain ...  ...     suggest remedi recurr abdomin pain block bowel\n",
              "3  What causes sensation of weird movements in th...  ...  caus sensat weird movement abdomen along sharp...\n",
              "4  Suggest remedies for recurrent pain in the abd...  ...  suggest remedi recurr pain abdomen chest heart...\n",
              "\n",
              "[5 rows x 3 columns]"
            ]
          },
          "metadata": {
            "tags": []
          },
          "execution_count": 13
        }
      ]
    },
    {
      "cell_type": "code",
      "metadata": {
        "colab": {
          "base_uri": "https://localhost:8080/"
        },
        "id": "RA919pt89LFb",
        "outputId": "547f504a-29a6-4502-8f1e-f5641f046365"
      },
      "source": [
        "# Splitting the data into train and  test with ratio 80 : 20 \n",
        "features= np.array(df['cleantext'])\n",
        "labels=np.array(df['medical'])\n",
        "X_train, X_test, y_train, y_test = train_test_split(features, labels, test_size=0.2, shuffle=True)\n",
        "print(X_train.shape)\n",
        "print(X_test.shape)"
      ],
      "execution_count": null,
      "outputs": [
        {
          "output_type": "stream",
          "text": [
            "(15927,)\n",
            "(3982,)\n"
          ],
          "name": "stdout"
        }
      ]
    },
    {
      "cell_type": "markdown",
      "metadata": {
        "id": "4IUAsJeRQXEg"
      },
      "source": [
        "## the model"
      ]
    },
    {
      "cell_type": "code",
      "metadata": {
        "colab": {
          "base_uri": "https://localhost:8080/"
        },
        "id": "OjpmPJJgBDYQ",
        "outputId": "47b1f5fb-6903-41a4-eab8-d7a2cbd4e0e0"
      },
      "source": [
        "\n",
        "# TFIDF transformation then decisionTree classifier with criterion=\"entropy\"\n",
        "\n",
        "pipe_DT= Pipeline([('tfidf', TfidfVectorizer()),\n",
        "               ('clf',svm.SVC(kernel='linear', C=1)),\n",
        "              ])\n",
        "pipe_DT.fit(X_train, y_train)\n",
        "y_pred_DT = pipe_DT.predict(X_test)\n",
        "\n",
        "#Evaluation\n",
        "print('\\033[1m{:10s}\\033[0m'.format('decision_tree_entropoy_model'))\n",
        "print(\"Report : \",classification_report(y_test, y_pred_DT))\n",
        "print('\\033[1m{:10s}\\033[0m'.format(\"Accuracy:\"),metrics.accuracy_score(y_test, y_pred_DT))"
      ],
      "execution_count": null,
      "outputs": [
        {
          "output_type": "stream",
          "text": [
            "\u001b[1mdecision_tree_entropoy_model\u001b[0m\n",
            "Report :                precision    recall  f1-score   support\n",
            "\n",
            "           0       0.99      1.00      0.99      1919\n",
            "           1       1.00      0.99      0.99      2063\n",
            "\n",
            "    accuracy                           0.99      3982\n",
            "   macro avg       0.99      0.99      0.99      3982\n",
            "weighted avg       0.99      0.99      0.99      3982\n",
            "\n",
            "\u001b[1mAccuracy: \u001b[0m 0.9914615770969362\n"
          ],
          "name": "stdout"
        }
      ]
    },
    {
      "cell_type": "code",
      "metadata": {
        "colab": {
          "base_uri": "https://localhost:8080/"
        },
        "id": "5ewPc_H3Rw85",
        "outputId": "ed9b5662-7986-4045-8882-c57146063149"
      },
      "source": [
        "from joblib import dump, load\n",
        "dump(pipe_DT, 'medical_relevence_classifier.joblib') "
      ],
      "execution_count": null,
      "outputs": [
        {
          "output_type": "execute_result",
          "data": {
            "text/plain": [
              "['medical_relevence_classifier.joblib']"
            ]
          },
          "metadata": {
            "tags": []
          },
          "execution_count": 27
        }
      ]
    },
    {
      "cell_type": "code",
      "metadata": {
        "id": "F2ugZNVgS847"
      },
      "source": [
        "clf = load('medical_relevence_classifier.joblib')"
      ],
      "execution_count": null,
      "outputs": []
    },
    {
      "cell_type": "code",
      "metadata": {
        "id": "UJ2FFfzcC8n3"
      },
      "source": [
        "def predict_text(msg):\n",
        "  clean_msg = clean_text(msg)\n",
        "  pred = clf.predict([clean_msg])\n",
        "  return pred"
      ],
      "execution_count": null,
      "outputs": []
    },
    {
      "cell_type": "code",
      "metadata": {
        "colab": {
          "base_uri": "https://localhost:8080/"
        },
        "id": "cvQlU_zYDqXG",
        "outputId": "8f8a217b-ec33-4743-9897-1807f2391dad"
      },
      "source": [
        "predict_text('my stomach hurts')"
      ],
      "execution_count": null,
      "outputs": [
        {
          "output_type": "execute_result",
          "data": {
            "text/plain": [
              "array([1])"
            ]
          },
          "metadata": {
            "tags": []
          },
          "execution_count": 19
        }
      ]
    },
    {
      "cell_type": "code",
      "metadata": {
        "colab": {
          "base_uri": "https://localhost:8080/"
        },
        "id": "U0b3akqDFCVm",
        "outputId": "931d9405-a916-4f56-89eb-bad68b24c146"
      },
      "source": [
        "predict_text('i have pain')"
      ],
      "execution_count": null,
      "outputs": [
        {
          "output_type": "execute_result",
          "data": {
            "text/plain": [
              "array([1])"
            ]
          },
          "metadata": {
            "tags": []
          },
          "execution_count": 20
        }
      ]
    },
    {
      "cell_type": "code",
      "metadata": {
        "colab": {
          "base_uri": "https://localhost:8080/"
        },
        "id": "e9183fFgICYf",
        "outputId": "f2257348-f0c4-4d28-cd84-c6f8e21c166b"
      },
      "source": [
        "predict_text('i am very bored')"
      ],
      "execution_count": null,
      "outputs": [
        {
          "output_type": "execute_result",
          "data": {
            "text/plain": [
              "array([0])"
            ]
          },
          "metadata": {
            "tags": []
          },
          "execution_count": 21
        }
      ]
    },
    {
      "cell_type": "code",
      "metadata": {
        "colab": {
          "base_uri": "https://localhost:8080/"
        },
        "id": "HY15BclxLOB1",
        "outputId": "45a7293d-0234-43a9-d668-c6be6e0d3ebc"
      },
      "source": [
        "!pip install -U scikit-learn"
      ],
      "execution_count": null,
      "outputs": [
        {
          "output_type": "stream",
          "text": [
            "Requirement already satisfied: scikit-learn in /usr/local/lib/python3.7/dist-packages (0.24.2)\n",
            "Requirement already satisfied: threadpoolctl>=2.0.0 in /usr/local/lib/python3.7/dist-packages (from scikit-learn) (2.2.0)\n",
            "Requirement already satisfied: numpy>=1.13.3 in /usr/local/lib/python3.7/dist-packages (from scikit-learn) (1.19.5)\n",
            "Requirement already satisfied: joblib>=0.11 in /usr/local/lib/python3.7/dist-packages (from scikit-learn) (1.0.1)\n",
            "Requirement already satisfied: scipy>=0.19.1 in /usr/local/lib/python3.7/dist-packages (from scikit-learn) (1.4.1)\n"
          ],
          "name": "stdout"
        }
      ]
    },
    {
      "cell_type": "code",
      "metadata": {
        "id": "vRmTneNnXdXt"
      },
      "source": [
        ""
      ],
      "execution_count": null,
      "outputs": []
    }
  ]
}